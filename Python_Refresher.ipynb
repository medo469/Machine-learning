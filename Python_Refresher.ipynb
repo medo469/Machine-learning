{
  "cells": [
    {
      "cell_type": "markdown",
      "metadata": {
        "id": "view-in-github",
        "colab_type": "text"
      },
      "source": [
        "<a href=\"https://colab.research.google.com/github/medo469/Machine-learning/blob/main/Python_Refresher.ipynb\" target=\"_parent\"><img src=\"https://colab.research.google.com/assets/colab-badge.svg\" alt=\"Open In Colab\"/></a>"
      ]
    },
    {
      "cell_type": "markdown",
      "metadata": {
        "id": "6-VA1v4W5q1H"
      },
      "source": [
        "\n",
        "# Python Refresher"
      ]
    },
    {
      "cell_type": "markdown",
      "metadata": {
        "id": "2PxbmQOkJGkX"
      },
      "source": [
        "**Contents**:"
      ]
    },
    {
      "cell_type": "markdown",
      "metadata": {
        "id": "8kXrQkBl5q1J"
      },
      "source": [
        "**Introduction**\n",
        "\n",
        "This tutorial provides a nice hands-on introduction to the Python programming language and the NumPy library for scientific computing"
      ]
    },
    {
      "cell_type": "markdown",
      "metadata": {
        "id": "ay9mgFSO5q1M"
      },
      "source": [
        "# ------------------------------------------------ Introduction -------------------------------------------------------------"
      ]
    },
    {
      "cell_type": "markdown",
      "metadata": {
        "id": "fcfkw97U5q1N"
      },
      "source": [
        "Python is a powerful and popular programming language. It was developed in the late 1980s by Guido Van Russo. Python is known for its easy and straightforward readability and writing.\n",
        "\n",
        "Python is highly sought after in the job market and aims to simplify and increase productivity in programming. It has a simple and clear structure, making it suitable for both beginners and professionals. Python offers a wide range of libraries and tools that aid in the development process. It is available as open source across various platforms, making it a powerful and versatile language in the modern technology world."
      ]
    },
    {
      "cell_type": "markdown",
      "metadata": {
        "id": "qo36kJw25q1P"
      },
      "source": [
        "# In this tutorial, we will cover:\n",
        "* Basic Python:\n",
        " -  Basic data types (Integers, Booleans, Strings, Lists, Tuples, Dictionaries)\n",
        " - DataFrame and Serias\n",
        " - Functions   \n",
        " - if condition\n",
        " - loops (while loop, for loop)\n",
        "* Numpy\n",
        "* Populer libraries\n",
        "* Matplotlib\n",
        "* Pandas\n"
      ]
    },
    {
      "cell_type": "markdown",
      "metadata": {
        "id": "sotHVM0t5q1l"
      },
      "source": [
        "# ------------------------------------------------ Basic data types -------------------------------------------------------------"
      ]
    },
    {
      "cell_type": "markdown",
      "metadata": {
        "id": "THkpPxwN5q1n"
      },
      "source": [
        "# Integers & Float"
      ]
    },
    {
      "cell_type": "markdown",
      "metadata": {
        "id": "f3xyLvxW5q1o"
      },
      "source": [
        "An integer is a whole number without a fractional part. It can be positive, negative, or zero.\n",
        "\n",
        "A float is a number that has a decimal point. It can represent fractional values as well as whole numbers\n",
        "\n",
        "Integers and floats work as you would expect from other languages:"
      ]
    },
    {
      "cell_type": "code",
      "execution_count": null,
      "metadata": {
        "colab": {
          "base_uri": "https://localhost:8080/"
        },
        "id": "bVYQAovh5q1q",
        "outputId": "6aa89fc9-4ee4-4e3e-dc49-905d0ebf927d"
      },
      "outputs": [
        {
          "output_type": "stream",
          "name": "stdout",
          "text": [
            "3 <class 'int'>\n",
            "3.5 <class 'float'>\n"
          ]
        }
      ],
      "source": [
        "#Integer\n",
        "x = 3\n",
        "print(x, type(x))\n",
        "\n",
        "#Float\n",
        "x = 3.5\n",
        "print(x, type(x))"
      ]
    },
    {
      "cell_type": "markdown",
      "metadata": {
        "id": "Hwypzq6TkQgy"
      },
      "source": [
        " Arithmetics in Python"
      ]
    },
    {
      "cell_type": "code",
      "execution_count": null,
      "metadata": {
        "colab": {
          "base_uri": "https://localhost:8080/"
        },
        "id": "dztfWsYU5q1y",
        "outputId": "428ab8fa-d281-4998-f6e0-718dfe12d7e6"
      },
      "outputs": [
        {
          "name": "stdout",
          "output_type": "stream",
          "text": [
            "4\n",
            "2\n",
            "6\n",
            "1.5\n",
            "27\n"
          ]
        }
      ],
      "source": [
        "x = 3\n",
        "print(x + 1)   # Addition;\n",
        "print(x - 1)   # Subtraction;\n",
        "print(x * 2)   # Multiplication;\n",
        "print(x / 2)   # Division;\n",
        "print(x ** 3)  # Exponentiation;"
      ]
    },
    {
      "cell_type": "code",
      "execution_count": null,
      "metadata": {
        "colab": {
          "base_uri": "https://localhost:8080/"
        },
        "id": "gOmd8lBF5q16",
        "outputId": "ab5d1d18-7665-4402-b386-2c44eb8f004b"
      },
      "outputs": [
        {
          "name": "stdout",
          "output_type": "stream",
          "text": [
            "4\n",
            "8\n"
          ]
        }
      ],
      "source": [
        "# Equivalent to x = x + 1\n",
        "x += 1\n",
        "print(x)  # Prints \"4\"\n",
        "\n",
        "#Equivalent to x = x * 2\n",
        "x *= 2\n",
        "print(x)  # Prints \"8\""
      ]
    },
    {
      "cell_type": "code",
      "execution_count": null,
      "metadata": {
        "colab": {
          "base_uri": "https://localhost:8080/"
        },
        "id": "g4NuhVfj5q2E",
        "outputId": "21c1670a-19b7-4ae1-fb48-0d46db2c8351"
      },
      "outputs": [
        {
          "name": "stdout",
          "output_type": "stream",
          "text": [
            "<class 'float'>\n",
            "2.5 3.5 5.0 6.25\n"
          ]
        }
      ],
      "source": [
        "y = 2.5\n",
        "print(type(y)) # Prints \"<type 'float'>\"\n",
        "print(y, y + 1, y * 2, y ** 2) # Prints \"2.5 3.5 5.0 6.25\""
      ]
    },
    {
      "cell_type": "markdown",
      "metadata": {
        "id": "we75WUci5q2O"
      },
      "source": [
        "Python also has a lot of functions that can be used on numbers, such as finding the absolute value of a number, finding the largest number in a set of numbers, etc.\n",
        "\n",
        "You can find more functions and learn how to use them in the links below:\n",
        "\n",
        " [Python Page](https://docs.python.org/3/library/functions.html#len). or [Python built-in-functions](https://www.w3schools.com/python/python_ref_functions.asp)"
      ]
    },
    {
      "cell_type": "markdown",
      "metadata": {
        "id": "uUl_bk835q2P"
      },
      "source": [
        "# Booleans"
      ]
    },
    {
      "cell_type": "markdown",
      "metadata": {
        "id": "RxnVHDQtr_mr"
      },
      "source": [
        " Python implements all of the usual operators for Boolean logic, but uses English words (\"**and**\", \"**or**\", etc.) rather than symbols (`&&`, `||`, etc.):"
      ]
    },
    {
      "cell_type": "code",
      "execution_count": null,
      "metadata": {
        "colab": {
          "base_uri": "https://localhost:8080/"
        },
        "id": "yo6wobrY5q2R",
        "outputId": "1b0a1129-04ca-42cf-dfae-a22cc53be841"
      },
      "outputs": [
        {
          "name": "stdout",
          "output_type": "stream",
          "text": [
            "<class 'bool'>\n",
            "<class 'bool'>\n"
          ]
        }
      ],
      "source": [
        "t, f = True, False\n",
        "print(type(t)) # Prints \"<type 'bool'>\"\n",
        "print(type(f)) # Prints \"<type 'bool'>\""
      ]
    },
    {
      "cell_type": "markdown",
      "metadata": {
        "id": "zsBdYsbJ5q2Z"
      },
      "source": [
        "Now we let's look at the operations:"
      ]
    },
    {
      "cell_type": "code",
      "execution_count": null,
      "metadata": {
        "colab": {
          "base_uri": "https://localhost:8080/"
        },
        "id": "BNVhsasL5q2c",
        "outputId": "330014e2-5bdf-4748-beea-15da0c355f66"
      },
      "outputs": [
        {
          "output_type": "stream",
          "name": "stdout",
          "text": [
            "d\n",
            "q\n",
            "True\n"
          ]
        }
      ],
      "source": [
        "print('t' and 'd') # Logical AND;\n",
        "print('q' or 'f')  # Logical OR;\n",
        "print(not '')   # Logical NOT;"
      ]
    },
    {
      "cell_type": "markdown",
      "metadata": {
        "id": "jWt1jbF75q2j"
      },
      "source": [
        "# Strings"
      ]
    },
    {
      "cell_type": "code",
      "execution_count": null,
      "metadata": {
        "colab": {
          "base_uri": "https://localhost:8080/"
        },
        "id": "uyldbWX75q2k",
        "outputId": "f67165eb-c147-415e-f844-15a0aa60e94b"
      },
      "outputs": [
        {
          "output_type": "stream",
          "name": "stdout",
          "text": [
            "hello 7\n"
          ]
        }
      ],
      "source": [
        "hello = 'hello'   # String literals can use single quotes\n",
        "world = \"worldd \"   # or double quotes; it does not matter.\n",
        "print(hello, len(world))"
      ]
    },
    {
      "cell_type": "code",
      "execution_count": null,
      "metadata": {
        "colab": {
          "base_uri": "https://localhost:8080/"
        },
        "id": "69vTXT6m5q2p",
        "outputId": "e011d740-0dca-476d-ce77-bc656e9c9857"
      },
      "outputs": [
        {
          "name": "stdout",
          "output_type": "stream",
          "text": [
            "hello world\n"
          ]
        }
      ],
      "source": [
        "hw = 'hello' + ' ' + 'world'  # String concatenation\n",
        "print(hw)  # prints \"hello world\""
      ]
    },
    {
      "cell_type": "markdown",
      "metadata": {
        "id": "Q-xLTBCM5q2y"
      },
      "source": [
        "String also has many functions that can be used, such as slicing the words of a particular sentence, enlarging the English letters in a particular word, and so on"
      ]
    },
    {
      "cell_type": "code",
      "execution_count": null,
      "metadata": {
        "colab": {
          "base_uri": "https://localhost:8080/"
        },
        "id": "5tMbkHM65q20",
        "outputId": "4acaedb9-45ac-4acf-9b58-e27ffa6e0c38"
      },
      "outputs": [
        {
          "output_type": "stream",
          "name": "stdout",
          "text": [
            "Hello\n",
            "HELLO\n",
            "  hello\n",
            " hello \n",
            "h(ell)llo\n",
            "world\n"
          ]
        }
      ],
      "source": [
        "s = \"hello\"\n",
        "print(s.capitalize())  # Capitalize a string; prints \"Hello\"\n",
        "print(s.upper())       # Convert a string to uppercase; prints \"HELLO\"\n",
        "print(s.rjust(7))      # Right-justify a string, padding with spaces; prints \"  hello\"\n",
        "print(s.center(7))     # Center a string, padding with spaces; prints \" hello \"\n",
        "print(s.replace('e', '(ell)'))  # Replace all instances of one substring with another;\n",
        "                                # prints \"he(ell)(ell)o\"\n",
        "print('   world        '.strip())  # Strip leading and trailing whitespace; prints \"world\""
      ]
    },
    {
      "cell_type": "markdown",
      "metadata": {
        "id": "7iVAp_Hm5q24"
      },
      "source": [
        "You can also learn more functions in the link below [Python String Methods](https://www.w3schools.com/python/python_ref_string.asp)."
      ]
    },
    {
      "cell_type": "markdown",
      "metadata": {
        "id": "-PerHSky5q25"
      },
      "source": [
        "The Python language includes several types of containers that store data: lists, dictionaries, sets, and tuples."
      ]
    },
    {
      "cell_type": "markdown",
      "metadata": {
        "id": "K_Pw3rquS2wQ"
      },
      "source": [
        "# ------------------------------------------------ Data Containers -------------------------------------------------------------"
      ]
    },
    {
      "cell_type": "markdown",
      "metadata": {
        "id": "f9BNPsMT5q27"
      },
      "source": [
        "# Lists"
      ]
    },
    {
      "cell_type": "markdown",
      "metadata": {
        "id": "ipDjlY6S5q28"
      },
      "source": [
        "A list is the Python equivalent of an array, but is resizable and can contain elements of different types:\n",
        "\n"
      ]
    },
    {
      "cell_type": "code",
      "execution_count": null,
      "metadata": {
        "colab": {
          "base_uri": "https://localhost:8080/"
        },
        "id": "4_TQGb2i5q29",
        "outputId": "e7f79282-db9f-4afe-c574-692744765e17"
      },
      "outputs": [
        {
          "output_type": "stream",
          "name": "stdout",
          "text": [
            "[3, 1, 2] 2\n",
            "2\n"
          ]
        }
      ],
      "source": [
        "my_list = [3, 1, 2]   # Create a list\n",
        "print(my_list, my_list[2])\n",
        "print(my_list[-1])    # Negative indices count from the end of the list; prints \"2\""
      ]
    },
    {
      "cell_type": "code",
      "execution_count": null,
      "metadata": {
        "colab": {
          "base_uri": "https://localhost:8080/"
        },
        "id": "aqoDqKcQ5q3A",
        "outputId": "97792b4d-f27e-43fa-9be7-40d044179fea"
      },
      "outputs": [
        {
          "output_type": "stream",
          "name": "stdout",
          "text": [
            "[3, 1, 'foo']\n"
          ]
        }
      ],
      "source": [
        "my_list[2] = 'foo' # Lists can contain elements of different types\n",
        "print(my_list)"
      ]
    },
    {
      "cell_type": "code",
      "execution_count": null,
      "metadata": {
        "colab": {
          "base_uri": "https://localhost:8080/"
        },
        "id": "WrloXM9J5q3G",
        "outputId": "13ca035f-a5c3-47b4-db66-123465d0ffa5"
      },
      "outputs": [
        {
          "output_type": "stream",
          "name": "stdout",
          "text": [
            "[3, 1, 'foo', 'bar', True, -3]\n"
          ]
        }
      ],
      "source": [
        "my_list.append(-3) # Add a new element to the end of the list\n",
        "print(my_list)"
      ]
    },
    {
      "cell_type": "code",
      "execution_count": null,
      "metadata": {
        "colab": {
          "base_uri": "https://localhost:8080/"
        },
        "id": "EkQ9BNzz5q3J",
        "outputId": "6a4551bf-84c5-4d4b-8972-2dd9d5850e49"
      },
      "outputs": [
        {
          "output_type": "stream",
          "name": "stdout",
          "text": [
            "-3 [3, 1, 'foo', 'bar', True]\n"
          ]
        }
      ],
      "source": [
        "x = my_list.pop()     # Remove and return the last element of the list\n",
        "print(x, my_list)"
      ]
    },
    {
      "cell_type": "code",
      "execution_count": null,
      "metadata": {
        "colab": {
          "base_uri": "https://localhost:8080/"
        },
        "id": "1_KHdbGp5jzm",
        "outputId": "fdedf3c1-37b1-4d09-e233-833a3bd5e9b2"
      },
      "outputs": [
        {
          "output_type": "stream",
          "name": "stdout",
          "text": [
            "[3, 1, 'bar', True]\n"
          ]
        }
      ],
      "source": [
        "my_list.remove('foo')     # Remove a specific element from the list\n",
        "print(my_list)"
      ]
    },
    {
      "cell_type": "markdown",
      "metadata": {
        "id": "wTDsbYOh5q3N"
      },
      "source": [
        "Lists or arrays also contain more functions that can be used, add an element in a specific place, etc.\n",
        "\n",
        "You can find more functions in the link below:\n",
        "\n",
        "[Python List/Array Methods](https://www.w3schools.com/python/python_ref_list.asp)."
      ]
    },
    {
      "cell_type": "markdown",
      "metadata": {
        "id": "OwN1QfB25q3P"
      },
      "source": [
        "**Slicing**"
      ]
    },
    {
      "cell_type": "markdown",
      "metadata": {
        "id": "jcMqNrgu5q3Q"
      },
      "source": [
        "In addition to accessing list items one by one, Python provides access to specific parts of the sequence through chunking"
      ]
    },
    {
      "cell_type": "code",
      "execution_count": null,
      "metadata": {
        "colab": {
          "base_uri": "https://localhost:8080/"
        },
        "id": "wwZ6SA-L5q3Q",
        "outputId": "85dea8eb-75ce-4854-e5ab-b3a72bc26d89"
      },
      "outputs": [
        {
          "output_type": "stream",
          "name": "stdout",
          "text": [
            "[0, 1, 2, 3, 4]\n",
            "[0, 1, 2, 3]\n",
            "[0, 2, 4]\n",
            "[0, 1, 8, 9, 4]\n"
          ]
        }
      ],
      "source": [
        "nums = list(range(5))      # range is a built-in function that creates an iterator, which we turn into a list of integers\n",
        "print(nums)         # Prints \"[0, 1, 2, 3, 4]\"\n",
        "# print(nums[2:4])    # Get a slice from index 2 to 4 (exclusive); prints \"[2, 3]\"\n",
        "# print(nums[2:])     # Get a slice from index 2 to the end; prints \"[2, 3, 4]\"\n",
        "# print(nums[:2])     # Get a slice from the start to index 2 (exclusive); prints \"[0, 1]\"\n",
        "# print(nums[:])      # Get a slice of the whole list; prints \"[0, 1, 2, 3, 4]\"\n",
        "print(nums[:-1])    # Slice indices can be negative; prints \"[0, 1, 2, 3]\"\n",
        "print(nums[0:5:2])  # Get a slice from index 0 to 5 (exclusive) with step = 2; prints \"[0, 2, 4]\"\n",
        "nums[2:4] = [8, 9]  # Assign a new sublist to a slice\n",
        "print(nums)         # Prints \"[0, 1, 8, 9, 4]\""
      ]
    },
    {
      "cell_type": "markdown",
      "metadata": {
        "id": "Zn9lPGuA5q3t"
      },
      "source": [
        "# Dictionaries\n",
        "\n",
        "\n"
      ]
    },
    {
      "cell_type": "markdown",
      "metadata": {
        "id": "lWwKqtsR1baM"
      },
      "source": [
        "\n",
        "Dictionaries in Python are data structures used to store key-value pairs\n"
      ]
    },
    {
      "cell_type": "code",
      "execution_count": null,
      "metadata": {
        "colab": {
          "base_uri": "https://localhost:8080/"
        },
        "id": "zSiLXU9A0_YC",
        "outputId": "36ca63bc-da5b-4a50-af0f-410611bf2d8e"
      },
      "outputs": [
        {
          "output_type": "stream",
          "name": "stdout",
          "text": [
            "Ahmed\n",
            "{'name': 'Ahmed', 'age': 21, 'major': 'Computer Science'}\n"
          ]
        }
      ],
      "source": [
        "# Create a Dictionary\n",
        "student = {'name': 'Ahmed', 'age': 20, 'grade': 'A'}\n",
        "\n",
        "# Accessing values with keys\n",
        "print(student['name'])  # Output: Ahmed\n",
        "\n",
        "# Adding a new item\n",
        "student['major'] = 'Computer Science'\n",
        "\n",
        "# Modify an existing value\n",
        "student['age'] = 21\n",
        "\n",
        "# Delete an item\n",
        "del student['grade']\n",
        "\n",
        "# Print the whole dictionary\n",
        "print(student)\n"
      ]
    },
    {
      "cell_type": "markdown",
      "metadata": {
        "id": "G_RIziuE5XPC"
      },
      "source": [
        "Dictionaries also have more functions that can be used, such as getting all keys and values, copying the dictionary, etc.\n",
        "\n",
        "You can find more functions in the link below:\n",
        "\n",
        "[Python Dictionary Methods\n",
        "](https://www.w3schools.com/python/python_ref_dictionary.asp)."
      ]
    },
    {
      "cell_type": "markdown",
      "metadata": {
        "id": "tDD47vMB5q4L"
      },
      "source": [
        "# Sets"
      ]
    },
    {
      "cell_type": "markdown",
      "metadata": {
        "id": "GA8eU1aU5q4M"
      },
      "source": [
        "A set is an unordered collection of distinct elements. As a simple example, consider the following:"
      ]
    },
    {
      "cell_type": "code",
      "execution_count": null,
      "metadata": {
        "colab": {
          "base_uri": "https://localhost:8080/"
        },
        "id": "iBoumJBc5q4S",
        "outputId": "de8f8306-53db-4948-9749-9bd0e6738070"
      },
      "outputs": [
        {
          "name": "stdout",
          "output_type": "stream",
          "text": [
            "4\n",
            "4\n",
            "3\n",
            "{'lion', 'dog', 'fish'}\n"
          ]
        }
      ],
      "source": [
        "# Create a group\n",
        "animals = {'cat', 'dog', 'lion'}\n",
        "\n",
        "# add an item\n",
        "animals.add('fish')\n",
        "\n",
        "# Print the number of items\n",
        "print(len(animals))\n",
        "\n",
        "# Print the number of items\n",
        "animals.add('cat')\n",
        "\n",
        "print(len(animals))\n",
        "animals.remove('cat')  # Remove an element from a set\n",
        "\n",
        "print(len(animals))\n"
      ]
    },
    {
      "cell_type": "markdown",
      "metadata": {
        "id": "sWeLuyQz749D"
      },
      "source": [
        "Sets also contain more functions that can be used, such as getting all keys and values, copying the dictionary, etc.\n",
        "\n",
        "You can find more functions in the link below\n",
        "\n",
        "[Python Set Methods](https://www.w3schools.com/python/python_ref_set.asp)\n"
      ]
    },
    {
      "cell_type": "markdown",
      "metadata": {
        "id": "fL0UctlO5q4j"
      },
      "source": [
        "# Tuples"
      ]
    },
    {
      "cell_type": "markdown",
      "metadata": {
        "id": "iezj80Mu5q4j"
      },
      "source": [
        "is an ordered set of items, similar to lists, but cannot be modified, once created\n",
        "\n",
        "An ordered collection of items, similar to lists, but which cannot be modified once they are created"
      ]
    },
    {
      "cell_type": "code",
      "execution_count": null,
      "metadata": {
        "colab": {
          "base_uri": "https://localhost:8080/"
        },
        "id": "mdEyq1hC5q4k",
        "outputId": "0af788ef-5e25-4d6b-d794-780755b18586"
      },
      "outputs": [
        {
          "name": "stdout",
          "output_type": "stream",
          "text": [
            "(1, 2, 3, 'a', 'b', 'c')\n",
            "a\n"
          ]
        }
      ],
      "source": [
        "# Create a tuple\n",
        "my_tuple = (1, 2, 3, 'a', 'b', 'c')\n",
        "\n",
        "print(my_tuple) # output: (1, 2, 3, 'a', 'b', 'c')\n",
        "\n",
        "# Access to items\n",
        "print(my_tuple[3]) # output: a"
      ]
    },
    {
      "cell_type": "code",
      "execution_count": null,
      "metadata": {
        "id": "iO70e50C6bH8"
      },
      "outputs": [],
      "source": [
        "# my_tuple[0] = 4\n",
        "\n",
        "# Error, why? Because, as mentioned, they cannot be modified after they have been created"
      ]
    },
    {
      "cell_type": "markdown",
      "metadata": {
        "id": "nq3UKrta6_Nh"
      },
      "source": [
        "The tuple has two functions that can be used.\n",
        "\n",
        "You can find them here:\n",
        "\n",
        "[Python Tuple Methods](https://www.w3schools.com/python/python_ref_tuple.asp)."
      ]
    },
    {
      "cell_type": "markdown",
      "metadata": {
        "id": "Tt5QGHVYwfMn"
      },
      "source": [
        "# DataFrame"
      ]
    },
    {
      "cell_type": "markdown",
      "metadata": {
        "id": "gpbn8f9owltr"
      },
      "source": [
        "A DataFrame is a **two-dimensional** (rows and columns) labeled data structure with columns of potentially different types. It is similar to a table in a database or an Excel spreadsheet."
      ]
    },
    {
      "cell_type": "markdown",
      "metadata": {
        "id": "0-gv4XJu0s5n"
      },
      "source": [
        "How to create a DataFrame?\n",
        "\n",
        "We can create Dataframe in several ways:"
      ]
    },
    {
      "cell_type": "markdown",
      "metadata": {
        "id": "JWfOaJTd1APw"
      },
      "source": [
        "1. From a dictionary of list"
      ]
    },
    {
      "cell_type": "code",
      "execution_count": null,
      "metadata": {
        "colab": {
          "base_uri": "https://localhost:8080/"
        },
        "id": "buwymi2nw2oe",
        "outputId": "1d4a6b3c-af5c-43e5-f44a-2104418d7181"
      },
      "outputs": [
        {
          "output_type": "stream",
          "name": "stdout",
          "text": [
            "      Name  Age       City\n",
            "0   Yousif   18  Khartoumn\n",
            "1    Ahmed   20     Riyadh\n",
            "2  Eltayeb   32   Omdurman\n"
          ]
        }
      ],
      "source": [
        "# Creating a DataFrame from a dictionary of lists\n",
        "\n",
        "import pandas as pd\n",
        "\n",
        "data = {\n",
        "    'Name': ['Yousif', 'Ahmed', 'Eltayeb'],\n",
        "    'Age': [18, 20, 32],\n",
        "    'City': ['Khartoumn', 'Riyadh', 'Omdurman']\n",
        "}\n",
        "df = pd.DataFrame(data)\n",
        "print(df)\n"
      ]
    },
    {
      "cell_type": "markdown",
      "metadata": {
        "id": "qa_ukAZc1F7R"
      },
      "source": [
        "2. From a list of dictionaries:\n",
        "\n"
      ]
    },
    {
      "cell_type": "code",
      "execution_count": null,
      "metadata": {
        "colab": {
          "base_uri": "https://localhost:8080/"
        },
        "id": "1LmVgkyx2tSC",
        "outputId": "0fd1872d-0665-44e1-f7e6-10d7da08a4c9"
      },
      "outputs": [
        {
          "name": "stdout",
          "output_type": "stream",
          "text": [
            "      Name  Age       City\n",
            "0   Yousif   18  Khartoumn\n",
            "1    Ahmed   20     Riyadh\n",
            "2  Eltayeb   32   Omdurman\n"
          ]
        }
      ],
      "source": [
        "data = [\n",
        "    {'Name': 'Yousif', 'Age': 18, 'City': 'Khartoumn'},\n",
        "    {'Name': 'Ahmed', 'Age': 20, 'City': 'Riyadh'},\n",
        "    {'Name': 'Eltayeb', 'Age': 32, 'City': 'Omdurman'}\n",
        "]\n",
        "df = pd.DataFrame(data)\n",
        "print(df)\n"
      ]
    },
    {
      "cell_type": "markdown",
      "metadata": {
        "id": "3xMOPLUJ3aVh"
      },
      "source": [
        "DataFrame provides multiple ways to access and modify its data:"
      ]
    },
    {
      "cell_type": "markdown",
      "metadata": {
        "id": "MsbBvkeF6SDV"
      },
      "source": [
        "Access its data"
      ]
    },
    {
      "cell_type": "code",
      "execution_count": null,
      "metadata": {
        "colab": {
          "base_uri": "https://localhost:8080/"
        },
        "id": "BlURDyCs3U96",
        "outputId": "933a2533-040d-411f-8574-02911834a38b"
      },
      "outputs": [
        {
          "output_type": "stream",
          "name": "stdout",
          "text": [
            "0    18\n",
            "1    20\n",
            "2    32\n",
            "Name: Age, dtype: int64\n",
            "----------------------------------------\n",
            "      Name       City\n",
            "0   Yousif  Khartoumn\n",
            "1    Ahmed     Riyadh\n",
            "2  Eltayeb   Omdurman\n",
            "----------------------------------------\n",
            "Name       Yousif\n",
            "Age            18\n",
            "City    Khartoumn\n",
            "Name: 0, dtype: object\n",
            "----------------------------------------\n",
            "      Name  Age       City\n",
            "0   Yousif   18  Khartoumn\n",
            "2  Eltayeb   32   Omdurman\n"
          ]
        }
      ],
      "source": [
        "# Selecting a column:\n",
        "\n",
        "ages = df['Age']\n",
        "print(ages)\n",
        "\n",
        "print(\"-\" * 40)\n",
        "# Selecting multiple columns:\n",
        "subset = df[['Name', 'City']]\n",
        "print(subset)\n",
        "\n",
        "print(\"-\" * 40)\n",
        "\n",
        "# Selecting rows by label:\n",
        "row_by_label = df.loc[0]\n",
        "print(row_by_label)\n",
        "\n",
        "print(\"-\" * 40)\n",
        "\n",
        "# Selecting rows by index:\n",
        "first_row = df.iloc[0:3:2]\n",
        "print(first_row)\n",
        "\n"
      ]
    },
    {
      "cell_type": "markdown",
      "metadata": {
        "id": "sc8A7kfi7AhA"
      },
      "source": [
        "Modifying Data"
      ]
    },
    {
      "cell_type": "code",
      "execution_count": null,
      "metadata": {
        "id": "zfT7fuzx565g"
      },
      "outputs": [],
      "source": [
        "# Adding a new column:\n",
        "\n",
        "df['Country'] = ['KSA', 'Egypt', 'Syria']\n",
        "print(df)\n",
        "\n",
        "# Deleting a column:\n",
        "df.drop('Country', axis=1, inplace=True)\n",
        "print(df)\n",
        "\n",
        "# Deleting rows:\n",
        "df.drop(0, axis=0, inplace=True)\n",
        "print(df)\n"
      ]
    },
    {
      "cell_type": "markdown",
      "metadata": {
        "id": "a7LC2MEt7i65"
      },
      "source": [
        "DataFrame has many functions that can be used.\n",
        "\n",
        "You can find them here:\n",
        "\n",
        "[Python_Dataframe](https://www.geeksforgeeks.org/python-pandas-dataframe/)."
      ]
    },
    {
      "cell_type": "markdown",
      "metadata": {
        "id": "WNy5B6Gv8Zvb"
      },
      "source": [
        "# Series"
      ]
    },
    {
      "cell_type": "markdown",
      "metadata": {
        "id": "Pcw3dxfE8e-m"
      },
      "source": [
        "A Series is a one-dimensional labeled array capable of holding any data type (integers, strings, floating-point numbers, etc.). It can be thought of as a single column of data."
      ]
    },
    {
      "cell_type": "markdown",
      "metadata": {
        "id": "rauKTmJsEQgW"
      },
      "source": [
        "Creat a Series:"
      ]
    },
    {
      "cell_type": "markdown",
      "metadata": {
        "id": "Wqt33vuKMLkP"
      },
      "source": [
        "From a list:\n",
        "\n"
      ]
    },
    {
      "cell_type": "code",
      "execution_count": null,
      "metadata": {
        "colab": {
          "base_uri": "https://localhost:8080/"
        },
        "id": "aDaRffbSETAe",
        "outputId": "c6d9ff3d-2271-4729-f2f2-f7990261e31b"
      },
      "outputs": [
        {
          "name": "stdout",
          "output_type": "stream",
          "text": [
            "0    10\n",
            "1    20\n",
            "2    30\n",
            "3    40\n",
            "dtype: int64\n",
            "(4,)\n"
          ]
        }
      ],
      "source": [
        "import pandas as pd\n",
        "\n",
        "data = [10, 20, 30, 40]\n",
        "s = pd.Series(data)\n",
        "print(s)\n",
        "print(s.shape)"
      ]
    },
    {
      "cell_type": "markdown",
      "metadata": {
        "id": "6G5W49GgMO31"
      },
      "source": [
        "From a dictionary:\n",
        "\n"
      ]
    },
    {
      "cell_type": "code",
      "execution_count": null,
      "metadata": {
        "colab": {
          "base_uri": "https://localhost:8080/"
        },
        "id": "zBheL2aVMItu",
        "outputId": "ded35315-220e-43eb-994d-7893138522c0"
      },
      "outputs": [
        {
          "name": "stdout",
          "output_type": "stream",
          "text": [
            "a    1\n",
            "b    2\n",
            "c    3\n",
            "dtype: int64\n"
          ]
        }
      ],
      "source": [
        "data = {'a': 1, 'b': 2, 'c': 3}\n",
        "s = pd.Series(data)\n",
        "print(s)\n"
      ]
    },
    {
      "cell_type": "markdown",
      "metadata": {
        "id": "r5jQ8ihfMpA0"
      },
      "source": [
        "Accessing Data in a Series\n"
      ]
    },
    {
      "cell_type": "code",
      "execution_count": null,
      "metadata": {
        "colab": {
          "background_save": true,
          "base_uri": "https://localhost:8080/"
        },
        "id": "CjCq5MCaMpq5",
        "outputId": "51a45a7d-8645-433a-e378-cea6e0e1742d"
      },
      "outputs": [
        {
          "name": "stdout",
          "output_type": "stream",
          "text": [
            "1\n",
            "1\n"
          ]
        }
      ],
      "source": [
        "print(s[0])  # Access first element\n",
        "print(s['a'])  # Access element with label 'a'\n"
      ]
    },
    {
      "cell_type": "markdown",
      "metadata": {
        "id": "w1VXSG2s5q4q"
      },
      "source": [
        "# ------------------------------------------------ Functions --------------------------------------------------------------"
      ]
    },
    {
      "cell_type": "markdown",
      "metadata": {
        "id": "-4lAKLDY5q4r"
      },
      "source": [
        "Functions in Python are a set of codes that implement a specific task\n",
        "\n"
      ]
    },
    {
      "cell_type": "code",
      "execution_count": null,
      "metadata": {
        "colab": {
          "base_uri": "https://localhost:8080/"
        },
        "id": "oysjtHVh5q4s",
        "outputId": "4b844288-0de6-4de9-b732-77737bd15598"
      },
      "outputs": [
        {
          "data": {
            "text/plain": [
              "10"
            ]
          },
          "execution_count": 12,
          "metadata": {},
          "output_type": "execute_result"
        }
      ],
      "source": [
        "# Create a function\n",
        "def add_numbers(a, b):\n",
        "\n",
        "    result = a + b\n",
        "    return result\n",
        "\n",
        "# Call the function to execute the operations inside it\n",
        "add_numbers(4,6)\n"
      ]
    },
    {
      "cell_type": "markdown",
      "metadata": {
        "id": "dpgSf7VJA_ap"
      },
      "source": [
        "If these codes in the function are executed on the values 4 and 6, and if we look at the code, we see that it is a single code whose task is to sum the coefficients that we will specify when calling the function, which are specified as 4 and 6, so we get the result of their summation, which is 10"
      ]
    },
    {
      "cell_type": "markdown",
      "metadata": {
        "id": "-uBvrXwF_mG_"
      },
      "source": [
        "\n",
        "\n",
        "```\n",
        "def = define\n",
        "add_numbers = Function name\n",
        "a, b = Parameters\n",
        "add_numbers(4,6) = call the fuction\n",
        "4, 6 = Arguments\n",
        "```\n",
        "\n"
      ]
    },
    {
      "cell_type": "markdown",
      "metadata": {
        "id": "YhQkNfyd5q4x"
      },
      "source": [
        "We will often define functions to take optional keyword arguments, like this:"
      ]
    },
    {
      "cell_type": "code",
      "execution_count": null,
      "metadata": {
        "colab": {
          "base_uri": "https://localhost:8080/"
        },
        "id": "TH04kWxK5q4y",
        "outputId": "7cb437b0-9237-4701-dc09-19bdef297c80"
      },
      "outputs": [
        {
          "name": "stdout",
          "output_type": "stream",
          "text": [
            "Hello learner!\n"
          ]
        }
      ],
      "source": [
        "# مثال آخر\n",
        "def say_hello(name):\n",
        "\n",
        "    print(f\"Hello {name}!\")\n",
        "\n",
        "say_hello(\"learner\")"
      ]
    },
    {
      "cell_type": "markdown",
      "metadata": {
        "id": "9pbdA5Y5CIlK"
      },
      "source": [
        "Here, the function's job was to say hello to the name that we would enter later (or that the user would enter when calling the function.) When we called the function, we entered the name “learner” and the function was executed and printed Hello, learner"
      ]
    },
    {
      "cell_type": "markdown",
      "metadata": {
        "id": "TMVfI62qDUxs"
      },
      "source": [
        "You can learn more about functions in Python and practice them well at the link below:\n",
        "\n",
        "\n",
        "[Python Functions\n",
        "](https://www.w3schools.com/python/python_functions.asp)"
      ]
    },
    {
      "cell_type": "markdown",
      "metadata": {
        "id": "CV6OV42I5q1R"
      },
      "source": [
        "# ----------------------------------------------- If condition ----------------------------------------------------------"
      ]
    },
    {
      "cell_type": "markdown",
      "metadata": {
        "id": "B9MacMaY5q1T"
      },
      "source": [
        "##### We use conditions in Python to execute code only when certain conditions are met\n",
        "##### We use the conditional statement if... else\n",
        "##### We use the following logical statements with the conditional statement:\n",
        "\n",
        "##### Equals: a == b\n",
        "\n",
        "##### Not Equals: a !==\n",
        "\n",
        "##### Less than: a < b\n",
        "\n",
        "##### Less than or equal to: a <= b\n",
        "\n",
        "##### Greater than: a > b\n",
        "\n",
        "##### Greater than or equal to: a >= b\n",
        "\n",
        "---\n",
        "\n",
        "\n",
        "\n"
      ]
    },
    {
      "cell_type": "markdown",
      "metadata": {
        "id": "V7wVRH4S5y6M"
      },
      "source": [
        "##### It is important to leave a space before the commands inside the conditional statement or an error will appear"
      ]
    },
    {
      "cell_type": "markdown",
      "metadata": {
        "id": "U37aikPm5y6O"
      },
      "source": [
        "##### When we want to test multiple conditions, we use the command\n",
        "##### `elif`\n",
        "##### and when we want to execute a specific command when all conditions fail, we use\n",
        "##### `else`"
      ]
    },
    {
      "cell_type": "code",
      "execution_count": null,
      "metadata": {
        "colab": {
          "base_uri": "https://localhost:8080/"
        },
        "id": "wpYJZksQ5q1W",
        "outputId": "67708bf2-beef-4f28-c72c-328efae30da8"
      },
      "outputs": [
        {
          "name": "stdout",
          "output_type": "stream",
          "text": [
            "Positive\n",
            "Positive\n"
          ]
        }
      ],
      "source": [
        "x = 5\n",
        "\n",
        "if (x < 0):\n",
        "    print('Negative')\n",
        "elif (x > 0):\n",
        "    print('Positive')\n",
        "else:\n",
        "    print('Zero')\n",
        "\n",
        "if (x < 0):\n",
        "    print('Negative')\n",
        "elif (x > 0):\n",
        "    print('Positive')\n",
        "else:\n",
        "    print('Zero')"
      ]
    },
    {
      "cell_type": "markdown",
      "metadata": {
        "id": "cOXOkw6e5y6R"
      },
      "source": [
        "##### We can introduce logical operations to implement a compound condition as follows:"
      ]
    },
    {
      "cell_type": "code",
      "execution_count": null,
      "metadata": {
        "colab": {
          "base_uri": "https://localhost:8080/"
        },
        "id": "Qp1x91kO5y6T",
        "outputId": "75076fd3-7a94-4a56-d781-7f0c0430efd4"
      },
      "outputs": [
        {
          "name": "stdout",
          "output_type": "stream",
          "text": [
            "B\n"
          ]
        }
      ],
      "source": [
        "x = 10\n",
        "y = 205\n",
        "\n",
        "if (x > 5) and (y <= 25):\n",
        "    print('A')\n",
        "else:\n",
        "    print('B')"
      ]
    },
    {
      "cell_type": "markdown",
      "metadata": {
        "id": "cEkUoZVl5y6V"
      },
      "source": [
        "##### We can use the word\n",
        "##### `in`\n",
        "##### to see if a letter or number is present in a text"
      ]
    },
    {
      "cell_type": "code",
      "execution_count": null,
      "metadata": {
        "colab": {
          "base_uri": "https://localhost:8080/"
        },
        "id": "Mv_f0G135y6W",
        "outputId": "5f8ef4df-0210-4bea-e498-7826be178e9b"
      },
      "outputs": [
        {
          "name": "stdout",
          "output_type": "stream",
          "text": [
            "Found\n"
          ]
        }
      ],
      "source": [
        "strl = 'I am a string!'\n",
        "\n",
        "if 'I' in strl:\n",
        "    print('Found')\n",
        "else:\n",
        "    print('Not Found')"
      ]
    },
    {
      "cell_type": "code",
      "execution_count": null,
      "metadata": {
        "colab": {
          "base_uri": "https://localhost:8080/"
        },
        "id": "Z5loyMzBnRNY",
        "outputId": "66d5f868-d205-4964-f001-5a9d4ca181f0"
      },
      "outputs": [
        {
          "name": "stdout",
          "output_type": "stream",
          "text": [
            "found\n"
          ]
        }
      ],
      "source": [
        "my_list = ['orange' , 'green', 'yellow']\n",
        "if 'green' in my_list:\n",
        "  print (\"found\")\n",
        "else:\n",
        "  print (\"not found\")"
      ]
    },
    {
      "cell_type": "markdown",
      "metadata": {
        "id": "zPo-0_ml5y6Y"
      },
      "source": [
        "##### Important note: When an input function is used to get input from the user, that input is always defined as text and must be converted to the appropriate type in the code, as follows:\n"
      ]
    },
    {
      "cell_type": "code",
      "execution_count": null,
      "metadata": {
        "colab": {
          "base_uri": "https://localhost:8080/"
        },
        "id": "zDEoQLRlio5A",
        "outputId": "98049641-48ae-458c-fd05-c2a9efb5bb66"
      },
      "outputs": [
        {
          "name": "stdout",
          "output_type": "stream",
          "text": [
            "<class 'int'>\n"
          ]
        }
      ],
      "source": [
        "x = 55\n",
        "print(type(x))"
      ]
    },
    {
      "cell_type": "code",
      "execution_count": null,
      "metadata": {
        "colab": {
          "base_uri": "https://localhost:8080/"
        },
        "id": "EbgKORIb5y6Z",
        "outputId": "96980cc4-0fe5-4e9f-d794-ae96369975e4"
      },
      "outputs": [
        {
          "name": "stdout",
          "output_type": "stream",
          "text": [
            "3\n",
            "Positive\n"
          ]
        }
      ],
      "source": [
        "x = int ( input ())       # or float ()\n",
        "\n",
        "if  x <  0 :\n",
        "   print ( 'Negative' )\n",
        "elif  x >  0 :\n",
        "   print ( 'Positive' )\n",
        "else : print ( 'Zero' )"
      ]
    },
    {
      "cell_type": "markdown",
      "metadata": {
        "id": "JfV6-nO-5y6b"
      },
      "source": [
        "##### Example: Write a program that makes sure the entered password is 8 digits long and consists only of numbers"
      ]
    },
    {
      "cell_type": "code",
      "execution_count": null,
      "metadata": {
        "colab": {
          "base_uri": "https://localhost:8080/"
        },
        "id": "fIk70f4m5y6d",
        "outputId": "0d4187d6-e7dd-4045-aa81-276e11102dc0"
      },
      "outputs": [
        {
          "name": "stdout",
          "output_type": "stream",
          "text": [
            "123\n",
            "The number length should be 8!\n"
          ]
        }
      ],
      "source": [
        "password = input()\n",
        "\n",
        "if (not password.isnumeric()):\n",
        "    print('This is not a number! Please Try Again!')\n",
        "elif (len(password) != 8):\n",
        "    print('The number length should be 8!')\n",
        "else:\n",
        "    print('This is a valid password!')"
      ]
    },
    {
      "cell_type": "code",
      "execution_count": null,
      "metadata": {
        "colab": {
          "base_uri": "https://localhost:8080/"
        },
        "id": "Xvl5hDEvpf5e",
        "outputId": "32c9d9b9-612f-4bba-e8d6-4e02fe2f584d"
      },
      "outputs": [
        {
          "name": "stdout",
          "output_type": "stream",
          "text": [
            "yes it is\n"
          ]
        }
      ],
      "source": [
        "x = int()\n",
        "if ( not  x ==  5 ):\n",
        "  print  (\"yes it is\")\n",
        "else:\n",
        "  ('print no it it not')"
      ]
    },
    {
      "cell_type": "code",
      "execution_count": null,
      "metadata": {
        "id": "PXIsvZ0hHiWe"
      },
      "outputs": [],
      "source": []
    },
    {
      "cell_type": "markdown",
      "metadata": {
        "id": "hsCuQCSWwzgl"
      },
      "source": [
        "# --------------------------------------------------- Loops --------------------------------------------------------------"
      ]
    },
    {
      "cell_type": "markdown",
      "metadata": {
        "id": "13LnrwRDwzgm"
      },
      "source": [
        "##### We use recursive statements to pass through and manipulate multiple elements"
      ]
    },
    {
      "cell_type": "markdown",
      "metadata": {
        "id": "kjqmg6z-5y6i"
      },
      "source": [
        "##### **list** Storing multiple items in a single variable is done using arrays, or what is known in Python as"
      ]
    },
    {
      "cell_type": "code",
      "execution_count": null,
      "metadata": {
        "colab": {
          "base_uri": "https://localhost:8080/"
        },
        "id": "Gesf8koI5y6j",
        "outputId": "a319802e-c3f9-4a2d-91b1-d839684afc67"
      },
      "outputs": [
        {
          "name": "stdout",
          "output_type": "stream",
          "text": [
            "[1, 5, 6, 5, 9, 10]\n"
          ]
        }
      ],
      "source": [
        "nums = [1,5,6,5,9,10]\n",
        "strs = ['Ahmed','Mohamed','Ali']\n",
        "print(nums)"
      ]
    },
    {
      "cell_type": "markdown",
      "metadata": {
        "id": "9dkhmCOx5y6k"
      },
      "source": [
        "##### **for** To go through the elements of the array and print each one, we use for loops where we use"
      ]
    },
    {
      "cell_type": "code",
      "execution_count": null,
      "metadata": {
        "colab": {
          "base_uri": "https://localhost:8080/"
        },
        "id": "mXfKtCm65y6m",
        "outputId": "660f7219-2d14-4298-ff85-b076b28c6964"
      },
      "outputs": [
        {
          "name": "stdout",
          "output_type": "stream",
          "text": [
            "Ahmed\n",
            "Mohamed\n",
            "Ali\n",
            "Hasan\n"
          ]
        }
      ],
      "source": [
        "names = ['Ahmed', 'Mohamed', 'Ali', 'Hasan']\n",
        "\n",
        "for n in names:    # We assign 'n' to one of the elemnts of 'names' in each loop\n",
        "    print(n)"
      ]
    },
    {
      "cell_type": "markdown",
      "metadata": {
        "id": "_ShgTQGV5y6m"
      },
      "source": [
        "##### We can use any operations we want inside the recursive statement, for example, hover over all the elements, convert them to uppercase, and then print them"
      ]
    },
    {
      "cell_type": "code",
      "execution_count": null,
      "metadata": {
        "colab": {
          "base_uri": "https://localhost:8080/"
        },
        "id": "XrIm0nUi5y6n",
        "outputId": "a8d21cd5-4718-4f5f-ec8a-192f4def59a2"
      },
      "outputs": [
        {
          "name": "stdout",
          "output_type": "stream",
          "text": [
            "AHMED\n",
            "MOHAMED\n",
            "ALI\n",
            "HASAN\n"
          ]
        }
      ],
      "source": [
        "names = ['Ahmed', 'Mohamed', 'Ali', 'Hasan']\n",
        "\n",
        "for n in names:\n",
        "    n = n.upper()\n",
        "    print(n)"
      ]
    },
    {
      "cell_type": "markdown",
      "metadata": {
        "id": "T6Hvb5z65y6o"
      },
      "source": [
        "##### For example, print items that contain the letter \"d\""
      ]
    },
    {
      "cell_type": "code",
      "execution_count": null,
      "metadata": {
        "colab": {
          "base_uri": "https://localhost:8080/"
        },
        "id": "gKzkHAgc5y6p",
        "outputId": "435aeb1f-d18d-4c67-dd47-7dd9381d1198"
      },
      "outputs": [
        {
          "name": "stdout",
          "output_type": "stream",
          "text": [
            "Ahmed\n",
            "Mohamed\n"
          ]
        }
      ],
      "source": [
        "names = ['Ahmed', 'Mohamed', 'Ali', 'Hasan']\n",
        "\n",
        "for n in names:\n",
        "    if ('d' in n):\n",
        "        print(n)"
      ]
    },
    {
      "cell_type": "markdown",
      "metadata": {
        "id": "PWAsRPeh5y6p"
      },
      "source": [
        "##### For example, print items with a length less than or equal to 5"
      ]
    },
    {
      "cell_type": "code",
      "execution_count": null,
      "metadata": {
        "colab": {
          "base_uri": "https://localhost:8080/"
        },
        "id": "y_HCaXKn5y6q",
        "outputId": "761a62b1-a2fc-4950-cbc5-15941497d238"
      },
      "outputs": [
        {
          "name": "stdout",
          "output_type": "stream",
          "text": [
            "Ahmed\n",
            "Ali\n",
            "Hasan\n"
          ]
        }
      ],
      "source": [
        "names = ['Ahmed', 'Mohamed', 'Ali', 'Hasan']\n",
        "\n",
        "for n in names:\n",
        "    if (len(n) <= 5):\n",
        "        print(n)"
      ]
    },
    {
      "cell_type": "markdown",
      "metadata": {
        "id": "zyRKPdL55y6r"
      },
      "source": [
        "##### **break** A recursive statement can be stopped when a certain condition is met by using the statement"
      ]
    },
    {
      "cell_type": "code",
      "execution_count": null,
      "metadata": {
        "colab": {
          "base_uri": "https://localhost:8080/"
        },
        "id": "NP_gE_Xk5y6r",
        "outputId": "bc649f61-3b1e-4c79-982d-e93883cd495f"
      },
      "outputs": [
        {
          "name": "stdout",
          "output_type": "stream",
          "text": [
            "1\n",
            "3\n",
            "5\n",
            "6\n",
            "9\n",
            "8\n",
            "5\n"
          ]
        }
      ],
      "source": [
        "arr = [1,3,5,6,9,8,5,15,2,4,7,8,1]\n",
        "\n",
        "for i in arr:\n",
        "    if (i >= 10):\n",
        "        break\n",
        "    print(i)"
      ]
    },
    {
      "cell_type": "markdown",
      "metadata": {
        "id": "xsKfNfi15y6s"
      },
      "source": [
        "##### **continue** A cycle defined in a recursive statement can be overridden when a certain condition is met using the statement\n"
      ]
    },
    {
      "cell_type": "code",
      "execution_count": null,
      "metadata": {
        "colab": {
          "base_uri": "https://localhost:8080/"
        },
        "id": "FB20-V-g5y6s",
        "outputId": "b34bbecd-8745-4e7d-ee2e-ed672c020c2d"
      },
      "outputs": [
        {
          "name": "stdout",
          "output_type": "stream",
          "text": [
            "1\n",
            "3\n",
            "5\n",
            "6\n",
            "9\n",
            "8\n",
            "5\n",
            "2\n",
            "4\n",
            "7\n",
            "8\n",
            "1\n"
          ]
        }
      ],
      "source": [
        "arr = [1,3,5,6,9,8,5,15,2,4,7,8,1]\n",
        "\n",
        "for i in arr:\n",
        "    if (i >= 12):\n",
        "        continue\n",
        "    print(i)"
      ]
    },
    {
      "cell_type": "markdown",
      "metadata": {
        "id": "bfm0RI4D5y6s"
      },
      "source": [
        "\n",
        " To create an array of two numbers **range** the command can be used"
      ]
    },
    {
      "cell_type": "code",
      "execution_count": null,
      "metadata": {
        "colab": {
          "base_uri": "https://localhost:8080/"
        },
        "id": "VXyaVCO85y6t",
        "outputId": "935a89fb-f9e2-46ea-9349-77b51b0761b6"
      },
      "outputs": [
        {
          "name": "stdout",
          "output_type": "stream",
          "text": [
            "[5, 6, 7, 8, 9]\n"
          ]
        }
      ],
      "source": [
        "a = list(range(5,10))\n",
        "print(a)"
      ]
    },
    {
      "cell_type": "markdown",
      "metadata": {
        "id": "ygDDK3475y6t"
      },
      "source": [
        "##### Example: Write a program that prints the squares of the numbers 1 through 5"
      ]
    },
    {
      "cell_type": "code",
      "execution_count": null,
      "metadata": {
        "colab": {
          "base_uri": "https://localhost:8080/"
        },
        "id": "DjxgPOzapefa",
        "outputId": "19199e94-2d73-41bd-8aab-51e514e8b813"
      },
      "outputs": [
        {
          "name": "stdout",
          "output_type": "stream",
          "text": [
            "My name is MohamedMohamedMohamed\n"
          ]
        }
      ],
      "source": [
        "name = 'Mohamed'\n",
        "print(f'My name is {name}{name}{name}')"
      ]
    },
    {
      "cell_type": "code",
      "execution_count": null,
      "metadata": {
        "colab": {
          "base_uri": "https://localhost:8080/"
        },
        "id": "EhsDvUrE5y6u",
        "outputId": "9a2e1219-a441-4280-fe51-5f110720adf5"
      },
      "outputs": [
        {
          "name": "stdout",
          "output_type": "stream",
          "text": [
            "1\n",
            "4\n",
            "9\n",
            "16\n",
            "25\n"
          ]
        }
      ],
      "source": [
        "for i in range(1,6):\n",
        "      print(i ** 2)"
      ]
    },
    {
      "cell_type": "markdown",
      "metadata": {
        "id": "ONrnVGjqjxwr"
      },
      "source": [
        "# ------------------------------------------------------- Pandas --------------------------------------------------------------"
      ]
    },
    {
      "cell_type": "markdown",
      "metadata": {
        "id": "COq51jhxj5EI"
      },
      "source": [
        "Pandas is a library in Python that is used to analyze and manipulate data in a structured and organized way. Pandas provides flexible data structures such as 'dataframes' and 'strings', which allow storing and organizing data in an easy and efficient way. Here are some examples of\n",
        "Using Pandas\n",
        "\n",
        "\n"
      ]
    },
    {
      "cell_type": "code",
      "execution_count": null,
      "metadata": {
        "colab": {
          "base_uri": "https://localhost:8080/",
          "height": 54
        },
        "id": "p3zDgEAEkpi0",
        "outputId": "f0ce0751-9618-4839-9ba4-e25da9145989"
      },
      "outputs": [
        {
          "data": {
            "application/vnd.google.colaboratory.intrinsic+json": {
              "type": "string"
            },
            "text/plain": [
              "\"\\n#  Read and view csv files\\n\\nimport pandas as pd\\n\\n# Read the csv file\\n\\ndata = pd.read_csv('C/Users/.../file_name.csv') \\n\\n# view csv files\\nprint(data)\\n\""
            ]
          },
          "execution_count": 2,
          "metadata": {},
          "output_type": "execute_result"
        }
      ],
      "source": [
        "'''\n",
        "#  Read and view csv files\n",
        "\n",
        "import pandas as pd\n",
        "\n",
        "# Read the csv file\n",
        "\n",
        "data = pd.read_csv('/content/sample_data/file_name.csv') # file path\n",
        "\n",
        "# view csv files\n",
        "print(data)\n",
        "'''"
      ]
    },
    {
      "cell_type": "code",
      "execution_count": null,
      "metadata": {
        "colab": {
          "base_uri": "https://localhost:8080/"
        },
        "id": "Tvmfc4Ohl-Nj",
        "outputId": "0b1eb29c-339d-4907-9f5c-3cc68f70318d"
      },
      "outputs": [
        {
          "name": "stdout",
          "output_type": "stream",
          "text": [
            "    Name  Age\n",
            "0   John   25\n",
            "1   Anna   30\n",
            "2  Peter   35\n",
            "3  Linda   40\n"
          ]
        }
      ],
      "source": [
        "# sort and categorize data\n",
        "import pandas as pd\n",
        "\n",
        "# Create a DataFrame\n",
        "data = {'Name': ['John', 'Anna', 'Peter', 'Linda'],\n",
        "        'Age': [25, 30, 35, 40]}\n",
        "\n",
        "df = pd.DataFrame(data)\n",
        "\n",
        "# Sort data by age\n",
        "sorted_df = df.sort_values(by='Age')\n",
        "\n",
        "# Displaying sorted data\n",
        "print(sorted_df)\n"
      ]
    },
    {
      "cell_type": "markdown",
      "metadata": {
        "id": "Sr3a0uFgmF6H"
      },
      "source": [
        "Pandas provides powerful ways to analyze and organize data flexibly, making it an important library for working with data in Python\n",
        "\n",
        "If you want to learn more about the Pandas library, you can access the link below:\n",
        "\n",
        "[Pandas Tutorial\n",
        "](https://www.w3schools.com/python/pandas/default.asp)\n",
        "\n"
      ]
    },
    {
      "cell_type": "markdown",
      "metadata": {
        "id": "teyZGVZSJy5D"
      },
      "source": [
        "# ---------------------------------------------------- Numpy --------------------------------------------------------------"
      ]
    },
    {
      "cell_type": "markdown",
      "metadata": {
        "id": "slwiQKGJKFHL"
      },
      "source": [
        "Numpy is a library in Python that specializes in mathematical and scientific operations. It provides powerful data structures such as matrices as well as a wide range of mathematical functions to work with these structures efficiently. numpy is characterized by high performance and ease of use, making it a library of choice for many scientific and analytical applications in Python."
      ]
    },
    {
      "cell_type": "code",
      "execution_count": null,
      "metadata": {
        "id": "a7DrY0FtKuD-"
      },
      "outputs": [],
      "source": [
        "# to import the numpy library\n",
        "import numpy\n",
        "# But instead of typing 'npmay' when using one of its functions, we can save time and effort by typing 'np' as a shortcut instead of npmay\n",
        "import numpy as np"
      ]
    },
    {
      "cell_type": "markdown",
      "metadata": {
        "id": "W6hV4qNILuPF"
      },
      "source": [
        " Examples of uses of **Numpy**"
      ]
    },
    {
      "cell_type": "code",
      "execution_count": null,
      "metadata": {
        "colab": {
          "base_uri": "https://localhost:8080/"
        },
        "id": "Y9CC_pLQLs7R",
        "outputId": "9b84807b-8a84-4558-ea66-25d4be39ac6f"
      },
      "outputs": [
        {
          "name": "stdout",
          "output_type": "stream",
          "text": [
            "(2, 2)\n",
            "(2, 2)\n",
            "[[ 6  8]\n",
            " [10 12]]\n"
          ]
        }
      ],
      "source": [
        "# Creating a matrix\n",
        "matrix_a = np.array([[1, 2], [3, 4]])\n",
        "matrix_b = np.array([[5, 6], [7, 8]])\n",
        "\n",
        "# View the dimensions of the matrix\n",
        "print(matrix_a.shape)\n",
        "print(matrix_b.shape)\n",
        "\n",
        "# Matrix addition\n",
        "result = np.add(matrix_a, matrix_b)\n",
        "print(result)\n"
      ]
    },
    {
      "cell_type": "markdown",
      "metadata": {
        "id": "ahOJh5S0NQ-B"
      },
      "source": [
        "On the link below Numpy you can learn more about the:\n",
        "\n",
        "[NumPy Tutorial](https://www.w3schools.com/python/numpy/default.asp)"
      ]
    },
    {
      "cell_type": "markdown",
      "metadata": {
        "id": "q6eq8VAzN-0F"
      },
      "source": [
        "# -------------------------------------------------- Matplotlib --------------------------------------------------------------"
      ]
    },
    {
      "cell_type": "markdown",
      "metadata": {
        "id": "t6kq2VAiOuqK"
      },
      "source": [
        "Matplotlib is a library in Python that is used for drawing graphs and visualization in general. Matplotlib provides powerful tools to create a variety of graphs such as line graphs, pie charts, bar charts, and more. Here are some examples"
      ]
    },
    {
      "cell_type": "code",
      "execution_count": null,
      "metadata": {
        "colab": {
          "base_uri": "https://localhost:8080/",
          "height": 472
        },
        "id": "gb6BE5eBPWWW",
        "outputId": "65fe712c-b62b-4589-ae9a-7c34b71fb3e3"
      },
      "outputs": [
        {
          "data": {
            "image/png": "[encoded data removed]",
            "text/plain": [
              "<Figure size 640x480 with 1 Axes>"
            ]
          },
          "metadata": {},
          "output_type": "display_data"
        }
      ],
      "source": [
        "# :Drawing a line graph\n",
        "\n",
        "import matplotlib.pyplot as plt\n",
        "\n",
        "x = [1, 2, 3, 4, 5]\n",
        "y = [2, 4, 6, 8, 10]\n",
        "\n",
        "plt.plot(x, y)\n",
        "plt.xlabel('X-Axis')\n",
        "plt.ylabel('Y-Axis')\n",
        "plt.title('Linear Graph')\n",
        "plt.show()\n"
      ]
    },
    {
      "cell_type": "code",
      "execution_count": null,
      "metadata": {
        "colab": {
          "base_uri": "https://localhost:8080/",
          "height": 428
        },
        "id": "1FdziFMgPncK",
        "outputId": "040023c2-e35d-4bb9-f5a4-c4edbd04f2e8"
      },
      "outputs": [
        {
          "data": {
            "image/png": "[encoded data removed]",
            "text/plain": [
              "<Figure size 640x480 with 1 Axes>"
            ]
          },
          "metadata": {},
          "output_type": "display_data"
        }
      ],
      "source": [
        "# Drawing a pie chart\n",
        "\n",
        "import matplotlib.pyplot as plt\n",
        "\n",
        "sizes = [20, 30, 40, 10]\n",
        "labels = ['A', 'B', 'C', 'D']\n",
        "\n",
        "plt.pie(sizes, labels=labels, autopct='%1.1f%%')\n",
        "plt.title('Pie Chart')\n",
        "plt.show()\n"
      ]
    },
    {
      "cell_type": "code",
      "execution_count": null,
      "metadata": {
        "colab": {
          "base_uri": "https://localhost:8080/",
          "height": 472
        },
        "id": "i8B9EtJaP1m0",
        "outputId": "11519d60-043d-4dfa-f9b2-81a80309e1d4"
      },
      "outputs": [
        {
          "data": {
            "image/png": "[encoded data removed]",
            "text/plain": [
              "<Figure size 640x480 with 1 Axes>"
            ]
          },
          "metadata": {},
          "output_type": "display_data"
        }
      ],
      "source": [
        "# Drawing a bar graph:\n",
        "\n",
        "import matplotlib.pyplot as plt\n",
        "\n",
        "categories = ['A', 'B', 'C', 'D']\n",
        "values = [25, 40, 30, 35]\n",
        "\n",
        "plt.bar(categories, values)\n",
        "plt.xlabel('Categories')\n",
        "plt.ylabel('Values')\n",
        "plt.title('Bar Chart')\n",
        "plt.show()\n"
      ]
    },
    {
      "cell_type": "markdown",
      "metadata": {
        "id": "ndRnvKyYP_Mm"
      },
      "source": [
        "These are simple examples of using Matplotlib to create a variety of graphs. Matplotlib is widely used in many fields such as statistics and data analysis\n",
        "\n",
        "\n",
        "You can learn more about this library in the link below:\n",
        "\n",
        "[Matplotlib Tutorial\n",
        "](https://www.w3schools.com/python/matplotlib_intro.asp)"
      ]
    },
    {
      "cell_type": "markdown",
      "source": [
        "## By: **Yousif Shaheen😀**"
      ],
      "metadata": {
        "id": "HCdeaJ2XBr5a"
      }
    }
  ],
  "metadata": {
    "colab": {
      "provenance": [],
      "include_colab_link": true
    },
    "kernelspec": {
      "display_name": "Python 3",
      "name": "python3"
    },
    "language_info": {
      "name": "python"
    }
  },
  "nbformat": 4,
  "nbformat_minor": 0
}